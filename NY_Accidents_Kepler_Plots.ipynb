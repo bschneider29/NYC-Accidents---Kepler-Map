{
    "cells": [
        {
            "cell_type": "code",
            "execution_count": 2,
            "source": [
                "##Package Import\r\n",
                "import pandas as pd\r\n",
                "import geopandas as gpd\r\n",
                "import keplergl"
            ],
            "outputs": [],
            "metadata": {}
        },
        {
            "cell_type": "code",
            "execution_count": 5,
            "source": [
                "##Dataframe Import\r\n",
                "NYC_Accidents = pd.read_csv('NYC Accidents 2020.csv')"
            ],
            "outputs": [],
            "metadata": {}
        },
        {
            "cell_type": "code",
            "execution_count": 9,
            "source": [
                "##Missing Data Check\r\n",
                "\r\n",
                "print('Longitude: ',NYC_Accidents['LONGITUDE'].isnull().values.any())\r\n",
                "print('Latitude: ',NYC_Accidents['LATITUDE'].isnull().values.any())"
            ],
            "outputs": [
                {
                    "output_type": "stream",
                    "name": "stdout",
                    "text": [
                        "Longitude:  True\n",
                        "Latitude:  True\n"
                    ]
                }
            ],
            "metadata": {}
        },
        {
            "cell_type": "code",
            "execution_count": 21,
            "source": [
                "##Clean Up (remove NAs/convert long/lat to number from general)\r\n",
                "NYC_Accidents['LONGITUDE'] = pd.to_numeric(NYC_Accidents['LONGITUDE'] , errors='coerce')\r\n",
                "NYC_Accidents['LATITUDE'] = pd.to_numeric(NYC_Accidents['LATITUDE'], errors='coerce')\r\n",
                "NYC_Accidents['NUMBER OF PERSONS INJURED'] = pd.to_numeric(NYC_Accidents['NUMBER OF PERSONS INJURED'], errors='coerce')\r\n",
                "NYC_Accidents.dropna(subset=['LONGITUDE', 'LATITUDE', 'BOROUGH','NUMBER OF PERSONS INJURED'], inplace=True)\r\n",
                "\r\n",
                "NYC_Accidents.head()"
            ],
            "outputs": [
                {
                    "output_type": "execute_result",
                    "data": {
                        "text/html": [
                            "<div>\n",
                            "<style scoped>\n",
                            "    .dataframe tbody tr th:only-of-type {\n",
                            "        vertical-align: middle;\n",
                            "    }\n",
                            "\n",
                            "    .dataframe tbody tr th {\n",
                            "        vertical-align: top;\n",
                            "    }\n",
                            "\n",
                            "    .dataframe thead th {\n",
                            "        text-align: right;\n",
                            "    }\n",
                            "</style>\n",
                            "<table border=\"1\" class=\"dataframe\">\n",
                            "  <thead>\n",
                            "    <tr style=\"text-align: right;\">\n",
                            "      <th></th>\n",
                            "      <th>CRASH DATE</th>\n",
                            "      <th>CRASH TIME</th>\n",
                            "      <th>BOROUGH</th>\n",
                            "      <th>ZIP CODE</th>\n",
                            "      <th>LATITUDE</th>\n",
                            "      <th>LONGITUDE</th>\n",
                            "      <th>LOCATION</th>\n",
                            "      <th>ON STREET NAME</th>\n",
                            "      <th>CROSS STREET NAME</th>\n",
                            "      <th>OFF STREET NAME</th>\n",
                            "      <th>...</th>\n",
                            "      <th>CONTRIBUTING FACTOR VEHICLE 2</th>\n",
                            "      <th>CONTRIBUTING FACTOR VEHICLE 3</th>\n",
                            "      <th>CONTRIBUTING FACTOR VEHICLE 4</th>\n",
                            "      <th>CONTRIBUTING FACTOR VEHICLE 5</th>\n",
                            "      <th>COLLISION_ID</th>\n",
                            "      <th>VEHICLE TYPE CODE 1</th>\n",
                            "      <th>VEHICLE TYPE CODE 2</th>\n",
                            "      <th>VEHICLE TYPE CODE 3</th>\n",
                            "      <th>VEHICLE TYPE CODE 4</th>\n",
                            "      <th>VEHICLE TYPE CODE 5</th>\n",
                            "    </tr>\n",
                            "  </thead>\n",
                            "  <tbody>\n",
                            "    <tr>\n",
                            "      <th>0</th>\n",
                            "      <td>2020-08-29</td>\n",
                            "      <td>15:40:00</td>\n",
                            "      <td>BRONX</td>\n",
                            "      <td>10466.0</td>\n",
                            "      <td>40.892100</td>\n",
                            "      <td>-73.833760</td>\n",
                            "      <td>POINT (-73.83376 40.8921)</td>\n",
                            "      <td>PRATT AVENUE</td>\n",
                            "      <td>STRANG AVENUE</td>\n",
                            "      <td>NaN</td>\n",
                            "      <td>...</td>\n",
                            "      <td>Unspecified</td>\n",
                            "      <td>NaN</td>\n",
                            "      <td>NaN</td>\n",
                            "      <td>NaN</td>\n",
                            "      <td>4342908</td>\n",
                            "      <td>Sedan</td>\n",
                            "      <td>Station Wagon/Sport Utility Vehicle</td>\n",
                            "      <td>NaN</td>\n",
                            "      <td>NaN</td>\n",
                            "      <td>NaN</td>\n",
                            "    </tr>\n",
                            "    <tr>\n",
                            "      <th>1</th>\n",
                            "      <td>2020-08-29</td>\n",
                            "      <td>21:00:00</td>\n",
                            "      <td>BROOKLYN</td>\n",
                            "      <td>11221.0</td>\n",
                            "      <td>40.690500</td>\n",
                            "      <td>-73.919914</td>\n",
                            "      <td>POINT (-73.919914 40.6905)</td>\n",
                            "      <td>BUSHWICK AVENUE</td>\n",
                            "      <td>PALMETTO STREET</td>\n",
                            "      <td>NaN</td>\n",
                            "      <td>...</td>\n",
                            "      <td>Unspecified</td>\n",
                            "      <td>NaN</td>\n",
                            "      <td>NaN</td>\n",
                            "      <td>NaN</td>\n",
                            "      <td>4343555</td>\n",
                            "      <td>Sedan</td>\n",
                            "      <td>Sedan</td>\n",
                            "      <td>NaN</td>\n",
                            "      <td>NaN</td>\n",
                            "      <td>NaN</td>\n",
                            "    </tr>\n",
                            "    <tr>\n",
                            "      <th>3</th>\n",
                            "      <td>2020-08-29</td>\n",
                            "      <td>00:00:00</td>\n",
                            "      <td>BRONX</td>\n",
                            "      <td>10459.0</td>\n",
                            "      <td>40.824720</td>\n",
                            "      <td>-73.892960</td>\n",
                            "      <td>POINT (-73.89296 40.82472)</td>\n",
                            "      <td>NaN</td>\n",
                            "      <td>NaN</td>\n",
                            "      <td>1047 SIMPSON STREET</td>\n",
                            "      <td>...</td>\n",
                            "      <td>Unspecified</td>\n",
                            "      <td>Unspecified</td>\n",
                            "      <td>Unspecified</td>\n",
                            "      <td>NaN</td>\n",
                            "      <td>4343588</td>\n",
                            "      <td>Station Wagon/Sport Utility Vehicle</td>\n",
                            "      <td>Station Wagon/Sport Utility Vehicle</td>\n",
                            "      <td>Sedan</td>\n",
                            "      <td>Motorcycle</td>\n",
                            "      <td>NaN</td>\n",
                            "    </tr>\n",
                            "    <tr>\n",
                            "      <th>4</th>\n",
                            "      <td>2020-08-29</td>\n",
                            "      <td>17:10:00</td>\n",
                            "      <td>BROOKLYN</td>\n",
                            "      <td>11203.0</td>\n",
                            "      <td>40.649890</td>\n",
                            "      <td>-73.933890</td>\n",
                            "      <td>POINT (-73.93389 40.64989)</td>\n",
                            "      <td>NaN</td>\n",
                            "      <td>NaN</td>\n",
                            "      <td>4609 SNYDER AVENUE</td>\n",
                            "      <td>...</td>\n",
                            "      <td>Unspecified</td>\n",
                            "      <td>NaN</td>\n",
                            "      <td>NaN</td>\n",
                            "      <td>NaN</td>\n",
                            "      <td>4342953</td>\n",
                            "      <td>Sedan</td>\n",
                            "      <td>Sedan</td>\n",
                            "      <td>NaN</td>\n",
                            "      <td>NaN</td>\n",
                            "      <td>NaN</td>\n",
                            "    </tr>\n",
                            "    <tr>\n",
                            "      <th>6</th>\n",
                            "      <td>2020-08-29</td>\n",
                            "      <td>19:30:00</td>\n",
                            "      <td>BRONX</td>\n",
                            "      <td>10459.0</td>\n",
                            "      <td>40.825226</td>\n",
                            "      <td>-73.887780</td>\n",
                            "      <td>POINT (-73.88778 40.825226)</td>\n",
                            "      <td>LONGFELLOW AVENUE</td>\n",
                            "      <td>EAST 165 STREET</td>\n",
                            "      <td>NaN</td>\n",
                            "      <td>...</td>\n",
                            "      <td>NaN</td>\n",
                            "      <td>NaN</td>\n",
                            "      <td>NaN</td>\n",
                            "      <td>NaN</td>\n",
                            "      <td>4343004</td>\n",
                            "      <td>Station Wagon/Sport Utility Vehicle</td>\n",
                            "      <td>NaN</td>\n",
                            "      <td>NaN</td>\n",
                            "      <td>NaN</td>\n",
                            "      <td>NaN</td>\n",
                            "    </tr>\n",
                            "  </tbody>\n",
                            "</table>\n",
                            "<p>5 rows × 29 columns</p>\n",
                            "</div>"
                        ],
                        "text/plain": [
                            "   CRASH DATE CRASH TIME   BOROUGH  ZIP CODE   LATITUDE  LONGITUDE  \\\n",
                            "0  2020-08-29   15:40:00     BRONX   10466.0  40.892100 -73.833760   \n",
                            "1  2020-08-29   21:00:00  BROOKLYN   11221.0  40.690500 -73.919914   \n",
                            "3  2020-08-29   00:00:00     BRONX   10459.0  40.824720 -73.892960   \n",
                            "4  2020-08-29   17:10:00  BROOKLYN   11203.0  40.649890 -73.933890   \n",
                            "6  2020-08-29   19:30:00     BRONX   10459.0  40.825226 -73.887780   \n",
                            "\n",
                            "                      LOCATION     ON STREET NAME CROSS STREET NAME  \\\n",
                            "0    POINT (-73.83376 40.8921)       PRATT AVENUE     STRANG AVENUE   \n",
                            "1   POINT (-73.919914 40.6905)    BUSHWICK AVENUE   PALMETTO STREET   \n",
                            "3   POINT (-73.89296 40.82472)                NaN               NaN   \n",
                            "4   POINT (-73.93389 40.64989)                NaN               NaN   \n",
                            "6  POINT (-73.88778 40.825226)  LONGFELLOW AVENUE   EAST 165 STREET   \n",
                            "\n",
                            "       OFF STREET NAME  ...  CONTRIBUTING FACTOR VEHICLE 2  \\\n",
                            "0                  NaN  ...                    Unspecified   \n",
                            "1                  NaN  ...                    Unspecified   \n",
                            "3  1047 SIMPSON STREET  ...                    Unspecified   \n",
                            "4   4609 SNYDER AVENUE  ...                    Unspecified   \n",
                            "6                  NaN  ...                            NaN   \n",
                            "\n",
                            "   CONTRIBUTING FACTOR VEHICLE 3  CONTRIBUTING FACTOR VEHICLE 4  \\\n",
                            "0                            NaN                            NaN   \n",
                            "1                            NaN                            NaN   \n",
                            "3                    Unspecified                    Unspecified   \n",
                            "4                            NaN                            NaN   \n",
                            "6                            NaN                            NaN   \n",
                            "\n",
                            "   CONTRIBUTING FACTOR VEHICLE 5  COLLISION_ID  \\\n",
                            "0                            NaN       4342908   \n",
                            "1                            NaN       4343555   \n",
                            "3                            NaN       4343588   \n",
                            "4                            NaN       4342953   \n",
                            "6                            NaN       4343004   \n",
                            "\n",
                            "                   VEHICLE TYPE CODE 1                  VEHICLE TYPE CODE 2  \\\n",
                            "0                                Sedan  Station Wagon/Sport Utility Vehicle   \n",
                            "1                                Sedan                                Sedan   \n",
                            "3  Station Wagon/Sport Utility Vehicle  Station Wagon/Sport Utility Vehicle   \n",
                            "4                                Sedan                                Sedan   \n",
                            "6  Station Wagon/Sport Utility Vehicle                                  NaN   \n",
                            "\n",
                            "   VEHICLE TYPE CODE 3 VEHICLE TYPE CODE 4 VEHICLE TYPE CODE 5  \n",
                            "0                  NaN                 NaN                 NaN  \n",
                            "1                  NaN                 NaN                 NaN  \n",
                            "3                Sedan          Motorcycle                 NaN  \n",
                            "4                  NaN                 NaN                 NaN  \n",
                            "6                  NaN                 NaN                 NaN  \n",
                            "\n",
                            "[5 rows x 29 columns]"
                        ]
                    },
                    "metadata": {},
                    "execution_count": 21
                }
            ],
            "metadata": {}
        },
        {
            "cell_type": "code",
            "execution_count": 13,
            "source": [
                "##Kepler Map\r\n",
                "\r\n",
                "NYC_Accidents_Map = keplergl.KeplerGl(height=400)\r\n",
                "\r\n",
                "NYC_Accidents_Map.add_data(data=NYC_Accidents[['CRASH DATE','LONGITUDE', 'LATITUDE', 'BOROUGH','NUMBER OF PERSONS INJURED']], name=\"NYC Accidents\")\r\n",
                "\r\n",
                "NYC_Accidents_Map\r\n",
                "\r\n",
                "##Covers the whole world, and too broad"
            ],
            "outputs": [
                {
                    "output_type": "stream",
                    "name": "stdout",
                    "text": [
                        "User Guide: https://docs.kepler.gl/docs/keplergl-jupyter\n"
                    ]
                },
                {
                    "output_type": "display_data",
                    "data": {
                        "application/vnd.jupyter.widget-view+json": {
                            "version_major": 2,
                            "version_minor": 0,
                            "model_id": "19ba15bcd5d34613bd89ec0a66dd8b26"
                        },
                        "text/plain": [
                            "KeplerGl(data={'NYC Accidents': {'index': [0, 1, 3, 4, 6, 8, 9, 10, 11, 12, 13, 16, 17, 18, 19, 20, 24, 25, 26…"
                        ]
                    },
                    "metadata": {}
                }
            ],
            "metadata": {}
        },
        {
            "cell_type": "code",
            "execution_count": 29,
            "source": [
                "##Kepler Map With Filter\r\n",
                "\r\n",
                "NYC_Accidents_Map = keplergl.KeplerGl(height=400)\r\n",
                "\r\n",
                "NYC_Accidents_Map.add_data(data=NYC_Accidents[['CRASH DATE','LONGITUDE', 'LATITUDE', 'BOROUGH','NUMBER OF PERSONS INJURED']][(NYC_Accidents['NUMBER OF PERSONS INJURED']>=1)], name=\"NYC Accidents\")\r\n",
                "\r\n",
                "NYC_Accidents_Map\r\n",
                "\r\n",
                "##Accidents with injuries over 1\r\n",
                "##View set can be change by Kepler GUI"
            ],
            "outputs": [
                {
                    "output_type": "stream",
                    "name": "stdout",
                    "text": [
                        "User Guide: https://docs.kepler.gl/docs/keplergl-jupyter\n"
                    ]
                },
                {
                    "output_type": "display_data",
                    "data": {
                        "application/vnd.jupyter.widget-view+json": {
                            "version_major": 2,
                            "version_minor": 0,
                            "model_id": "3c16aa6a9b434dc2a42507f874951d39"
                        },
                        "text/plain": [
                            "KeplerGl(data={'NYC Accidents': {'index': [1, 12, 17, 18, 19, 20, 26, 28, 31, 33, 37, 38, 40, 45, 64, 66, 71, …"
                        ]
                    },
                    "metadata": {}
                }
            ],
            "metadata": {}
        },
        {
            "cell_type": "code",
            "execution_count": null,
            "source": [],
            "outputs": [],
            "metadata": {}
        }
    ],
    "metadata": {
        "orig_nbformat": 4,
        "language_info": {
            "name": "python",
            "version": "3.7.3",
            "mimetype": "text/x-python",
            "codemirror_mode": {
                "name": "ipython",
                "version": 3
            },
            "pygments_lexer": "ipython3",
            "nbconvert_exporter": "python",
            "file_extension": ".py"
        },
        "kernelspec": {
            "name": "python3",
            "display_name": "Python 3.7.3 64-bit"
        },
        "interpreter": {
            "hash": "73a2b958dffe64c57682536a9117df795234162942ff7172d207ad081ff4055c"
        }
    },
    "nbformat": 4,
    "nbformat_minor": 2
}